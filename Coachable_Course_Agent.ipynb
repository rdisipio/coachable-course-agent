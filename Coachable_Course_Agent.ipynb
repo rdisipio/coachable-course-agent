{
 "cells": [
  {
   "cell_type": "markdown",
   "id": "f961538f",
   "metadata": {},
   "source": [
    "# 🧠 Coachable Course Agent\n",
    "Interactive notebook version of the course recommendation agent."
   ]
  },
  {
   "cell_type": "code",
   "execution_count": null,
   "id": "9ac73d30",
   "metadata": {},
   "outputs": [],
   "source": [
    "# 1. Load data and libraries\n",
    "from coachable_course_agent.load_data import load_courses, load_esco_skills\n",
    "from coachable_course_agent.vector_store import initialize_chroma, add_courses_to_chroma, query_similar_courses\n",
    "from coachable_course_agent.memory_store import load_user_profile, update_user_profile\n",
    "from coachable_course_agent.feedback_processor import process_feedback\n",
    "\n",
    "courses = load_courses(\"data/course_catalog_esco.json\")\n",
    "esco_skills = load_esco_skills(\"data/esco_skills.csv\")\n"
   ]
  },
  {
   "cell_type": "code",
   "execution_count": null,
   "id": "c6969b69",
   "metadata": {},
   "outputs": [],
   "source": [
    "# 2. Initialize ChromaDB\n",
    "chroma_collection = initialize_chroma()\n",
    "add_courses_to_chroma(chroma_collection, courses)"
   ]
  },
  {
   "cell_type": "code",
   "execution_count": null,
   "id": "bfb8cb25",
   "metadata": {},
   "outputs": [],
   "source": [
    "# 3. Load user profile\n",
    "user_id = \"julia\"\n",
    "user_profile = load_user_profile(user_id)\n",
    "user_profile"
   ]
  },
  {
   "cell_type": "code",
   "execution_count": null,
   "id": "e2cd3522",
   "metadata": {},
   "outputs": [],
   "source": [
    "# 4. Query similar courses based on profile\n",
    "similar_courses = query_similar_courses(chroma_collection, user_profile, top_n=10)\n",
    "similar_courses"
   ]
  },
  {
   "cell_type": "code",
   "execution_count": null,
   "id": "8230c88a",
   "metadata": {},
   "outputs": [],
   "source": [
    "# 5. Get LLM-based recommendations\n",
    "from agents.recommender_agent import get_recommendations\n",
    "\n",
    "recommended_courses = get_recommendations(user_profile, similar_courses, esco_skills)\n",
    "for course in recommended_courses:\n",
    "    print(f\"Suggested: {course['title']} ({course['provider']})\")\n",
    "    print(\"Why:\", course[\"justification\"])\n",
    "    print()"
   ]
  },
  {
   "cell_type": "code",
   "execution_count": null,
   "id": "8cfb631a",
   "metadata": {},
   "outputs": [],
   "source": [
    "# 6. Simulate user feedback\n",
    "# Replace course_id with the ID from a suggested course\n",
    "course_id = recommended_courses[0][\"id\"]\n",
    "process_feedback(user_id, course_id, feedback_type=\"adjust\", reason=\"Too long / prefer hands-on\")"
   ]
  },
  {
   "cell_type": "code",
   "execution_count": null,
   "id": "fb0d5c9d",
   "metadata": {},
   "outputs": [],
   "source": [
    "# 7. Save updated user profile\n",
    "update_user_profile(user_id, user_profile)"
   ]
  }
 ],
 "metadata": {
  "language_info": {
   "name": "python"
  }
 },
 "nbformat": 4,
 "nbformat_minor": 5
}
