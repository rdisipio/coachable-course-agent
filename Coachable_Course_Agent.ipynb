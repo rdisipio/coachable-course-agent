{
 "cells": [
  {
   "cell_type": "markdown",
   "id": "f961538f",
   "metadata": {},
   "source": [
    "# 🧠 Coachable Course Agent\n",
    "Interactive notebook version of the course recommendation agent."
   ]
  },
  {
   "cell_type": "code",
   "execution_count": 1,
   "id": "2d0e901d",
   "metadata": {},
   "outputs": [],
   "source": [
    "%load_ext autoreload\n",
    "%autoreload 2"
   ]
  },
  {
   "cell_type": "code",
   "execution_count": 2,
   "id": "9ac73d30",
   "metadata": {},
   "outputs": [
    {
     "name": "stderr",
     "output_type": "stream",
     "text": [
      "Device set to use cpu\n"
     ]
    }
   ],
   "source": [
    "# 1. Load data and libraries\n",
    "from coachable_course_agent.load_data import load_courses, load_esco_skills\n",
    "from coachable_course_agent.vector_store import initialize_chroma, add_courses_to_chroma, query_similar_courses\n",
    "from coachable_course_agent.memory_store import load_user_profile, update_user_profile\n",
    "from coachable_course_agent.feedback_processor import process_feedback\n",
    "\n",
    "courses = load_courses(\"data/course_catalog_esco.json\")\n",
    "esco_skills = load_esco_skills(\"data/esco/skills_en.csv\")"
   ]
  },
  {
   "cell_type": "code",
   "execution_count": 3,
   "id": "c6969b69",
   "metadata": {},
   "outputs": [],
   "source": [
    "# 2. Initialize ChromaDB\n",
    "chroma_collection = initialize_chroma()\n",
    "add_courses_to_chroma(chroma_collection, courses)"
   ]
  },
  {
   "cell_type": "code",
   "execution_count": 4,
   "id": "bfb8cb25",
   "metadata": {},
   "outputs": [
    {
     "data": {
      "text/plain": [
       "{'goal': '',\n",
       " 'known_skills': [],\n",
       " 'missing_skills': [],\n",
       " 'preferences': {'format': [], 'style': [], 'avoid_styles': []},\n",
       " 'feedback_log': []}"
      ]
     },
     "execution_count": 4,
     "metadata": {},
     "output_type": "execute_result"
    }
   ],
   "source": [
    "# 3. Load user profile\n",
    "user_id = \"julia\"\n",
    "user_profile = load_user_profile(user_id)\n",
    "user_profile"
   ]
  },
  {
   "cell_type": "code",
   "execution_count": 5,
   "id": "e2cd3522",
   "metadata": {},
   "outputs": [
    {
     "data": {
      "text/plain": [
       "[{'skills': 'diversity and inclusion',\n",
       "  'provider': 'edX',\n",
       "  'title': 'Diversity And Inclusion Fundamentals'},\n",
       " {'skills': 'diversity and inclusion, people analytics',\n",
       "  'title': 'Diversity And Inclusion Fundamentals',\n",
       "  'provider': 'edX'},\n",
       " {'title': 'Diversity And Inclusion Fundamentals',\n",
       "  'provider': 'edX',\n",
       "  'skills': 'diversity and inclusion, leadership, talent acquisition'},\n",
       " {'title': 'Diversity And Inclusion Fundamentals',\n",
       "  'skills': 'diversity and inclusion, leadership, organizational development',\n",
       "  'provider': 'edX'},\n",
       " {'skills': 'conflict resolution, people analytics, diversity and inclusion',\n",
       "  'title': 'Conflict Resolution Fundamentals',\n",
       "  'provider': 'Udemy'},\n",
       " {'provider': 'LinkedIn Learning',\n",
       "  'title': 'Organizational Development Fundamentals',\n",
       "  'skills': 'organizational development, leadership, diversity and inclusion'},\n",
       " {'provider': 'edX',\n",
       "  'skills': 'conflict resolution, leadership',\n",
       "  'title': 'Conflict Resolution Fundamentals'},\n",
       " {'skills': 'conflict resolution, leadership',\n",
       "  'provider': 'FutureLearn',\n",
       "  'title': 'Conflict Resolution Fundamentals'},\n",
       " {'provider': 'Coursera',\n",
       "  'skills': 'coaching, diversity and inclusion, leadership',\n",
       "  'title': 'Coaching Fundamentals'},\n",
       " {'title': 'Coaching Fundamentals',\n",
       "  'provider': 'Coursera',\n",
       "  'skills': 'coaching, diversity and inclusion, performance management'}]"
      ]
     },
     "execution_count": 5,
     "metadata": {},
     "output_type": "execute_result"
    }
   ],
   "source": [
    "# 4. Query similar courses based on profile\n",
    "similar_courses = query_similar_courses(chroma_collection, user_profile, top_n=10)\n",
    "similar_courses"
   ]
  },
  {
   "cell_type": "code",
   "execution_count": 9,
   "id": "b0028a95",
   "metadata": {},
   "outputs": [
    {
     "name": "stdout",
     "output_type": "stream",
     "text": [
      "GROQ API key already set in environment variables.\n"
     ]
    }
   ],
   "source": [
    "import getpass\n",
    "import os\n",
    "\n",
    "if \"GROQ_API_KEY\" not in os.environ:\n",
    "    os.environ[\"GROQ_API_KEY\"] = getpass.getpass(\"Enter your GROQ API key: \")\n",
    "else:\n",
    "    print(\"GROQ API key already set in environment variables.\")"
   ]
  },
  {
   "cell_type": "code",
   "execution_count": 6,
   "id": "8230c88a",
   "metadata": {},
   "outputs": [
    {
     "ename": "KeyError",
     "evalue": "'duration_hours'",
     "output_type": "error",
     "traceback": [
      "\u001b[31m---------------------------------------------------------------------------\u001b[39m",
      "\u001b[31mKeyError\u001b[39m                                  Traceback (most recent call last)",
      "\u001b[36mCell\u001b[39m\u001b[36m \u001b[39m\u001b[32mIn[6]\u001b[39m\u001b[32m, line 4\u001b[39m\n\u001b[32m      1\u001b[39m \u001b[38;5;66;03m# 5. Get LLM-based recommendations\u001b[39;00m\n\u001b[32m      2\u001b[39m \u001b[38;5;28;01mfrom\u001b[39;00m\u001b[38;5;250m \u001b[39m\u001b[34;01mcoachable_course_agent\u001b[39;00m\u001b[34;01m.\u001b[39;00m\u001b[34;01mrecommender_agent\u001b[39;00m\u001b[38;5;250m \u001b[39m\u001b[38;5;28;01mimport\u001b[39;00m get_recommendations\n\u001b[32m----> \u001b[39m\u001b[32m4\u001b[39m recommended_courses = \u001b[43mget_recommendations\u001b[49m\u001b[43m(\u001b[49m\u001b[43muser_profile\u001b[49m\u001b[43m,\u001b[49m\u001b[43m \u001b[49m\u001b[43msimilar_courses\u001b[49m\u001b[43m,\u001b[49m\u001b[43m \u001b[49m\u001b[43mesco_skills\u001b[49m\u001b[43m)\u001b[49m\n\u001b[32m      5\u001b[39m \u001b[38;5;28;01mfor\u001b[39;00m course \u001b[38;5;129;01min\u001b[39;00m recommended_courses:\n\u001b[32m      6\u001b[39m     \u001b[38;5;28mprint\u001b[39m(\u001b[33mf\u001b[39m\u001b[33m\"\u001b[39m\u001b[33mSuggested: \u001b[39m\u001b[38;5;132;01m{\u001b[39;00mcourse[\u001b[33m'\u001b[39m\u001b[33mtitle\u001b[39m\u001b[33m'\u001b[39m]\u001b[38;5;132;01m}\u001b[39;00m\u001b[33m (\u001b[39m\u001b[38;5;132;01m{\u001b[39;00mcourse[\u001b[33m'\u001b[39m\u001b[33mprovider\u001b[39m\u001b[33m'\u001b[39m]\u001b[38;5;132;01m}\u001b[39;00m\u001b[33m)\u001b[39m\u001b[33m\"\u001b[39m)\n",
      "\u001b[36mFile \u001b[39m\u001b[32m~/environment/coachable-course-agent/coachable_course_agent/recommender_agent.py:18\u001b[39m, in \u001b[36mget_recommendations\u001b[39m\u001b[34m(user_profile, courses, esco_skills, top_n)\u001b[39m\n\u001b[32m     14\u001b[39m \u001b[38;5;28;01mdef\u001b[39;00m\u001b[38;5;250m \u001b[39m\u001b[34mget_recommendations\u001b[39m(user_profile, courses, esco_skills, top_n=\u001b[32m3\u001b[39m):\n\u001b[32m     15\u001b[39m     \u001b[38;5;66;03m# Sample 5-7 courses to feed into the LLM (in a real version, use vector search)\u001b[39;00m\n\u001b[32m     16\u001b[39m     sampled_courses = random.sample(courses, k=\u001b[38;5;28mmin\u001b[39m(\u001b[32m7\u001b[39m, \u001b[38;5;28mlen\u001b[39m(courses)))\n\u001b[32m---> \u001b[39m\u001b[32m18\u001b[39m     course_block = \u001b[33m\"\u001b[39m\u001b[38;5;130;01m\\n\u001b[39;00m\u001b[33m\"\u001b[39m.join(\u001b[43m[\u001b[49m\n\u001b[32m     19\u001b[39m \u001b[43m        \u001b[49m\u001b[33;43mf\u001b[39;49m\u001b[33;43m\"\u001b[39;49m\u001b[33;43m- \u001b[39;49m\u001b[38;5;132;43;01m{\u001b[39;49;00m\u001b[43mc\u001b[49m\u001b[43m[\u001b[49m\u001b[33;43m'\u001b[39;49m\u001b[33;43mtitle\u001b[39;49m\u001b[33;43m'\u001b[39;49m\u001b[43m]\u001b[49m\u001b[38;5;132;43;01m}\u001b[39;49;00m\u001b[33;43m (\u001b[39;49m\u001b[38;5;132;43;01m{\u001b[39;49;00m\u001b[43mc\u001b[49m\u001b[43m[\u001b[49m\u001b[33;43m'\u001b[39;49m\u001b[33;43mprovider\u001b[39;49m\u001b[33;43m'\u001b[39;49m\u001b[43m]\u001b[49m\u001b[38;5;132;43;01m}\u001b[39;49;00m\u001b[33;43m) | \u001b[39;49m\u001b[38;5;132;43;01m{\u001b[39;49;00m\u001b[43mc\u001b[49m\u001b[43m[\u001b[49m\u001b[33;43m'\u001b[39;49m\u001b[33;43mduration_hours\u001b[39;49m\u001b[33;43m'\u001b[39;49m\u001b[43m]\u001b[49m\u001b[38;5;132;43;01m}\u001b[39;49;00m\u001b[33;43mh | Skills: \u001b[39;49m\u001b[38;5;132;43;01m{\u001b[39;49;00m\u001b[33;43m'\u001b[39;49m\u001b[33;43m, \u001b[39;49m\u001b[33;43m'\u001b[39;49m\u001b[43m.\u001b[49m\u001b[43mjoin\u001b[49m\u001b[43m(\u001b[49m\u001b[43m[\u001b[49m\u001b[43ms\u001b[49m\u001b[43m[\u001b[49m\u001b[33;43m'\u001b[39;49m\u001b[33;43mname\u001b[39;49m\u001b[33;43m'\u001b[39;49m\u001b[43m]\u001b[49m\u001b[38;5;250;43m \u001b[39;49m\u001b[38;5;28;43;01mfor\u001b[39;49;00m\u001b[38;5;250;43m \u001b[39;49m\u001b[43ms\u001b[49m\u001b[38;5;250;43m \u001b[39;49m\u001b[38;5;129;43;01min\u001b[39;49;00m\u001b[38;5;250;43m \u001b[39;49m\u001b[43mc\u001b[49m\u001b[43m[\u001b[49m\u001b[33;43m'\u001b[39;49m\u001b[33;43mskills\u001b[39;49m\u001b[33;43m'\u001b[39;49m\u001b[43m]\u001b[49m\u001b[43m]\u001b[49m\u001b[43m)\u001b[49m\u001b[38;5;132;43;01m}\u001b[39;49;00m\u001b[33;43m\"\u001b[39;49m\n\u001b[32m     20\u001b[39m \u001b[43m        \u001b[49m\u001b[38;5;28;43;01mfor\u001b[39;49;00m\u001b[43m \u001b[49m\u001b[43mc\u001b[49m\u001b[43m \u001b[49m\u001b[38;5;129;43;01min\u001b[39;49;00m\u001b[43m \u001b[49m\u001b[43msampled_courses\u001b[49m\n\u001b[32m     21\u001b[39m \u001b[43m    \u001b[49m\u001b[43m]\u001b[49m)\n\u001b[32m     23\u001b[39m     prompt_input = base_prompt.format(\n\u001b[32m     24\u001b[39m         goal=user_profile[\u001b[33m\"\u001b[39m\u001b[33mgoal\u001b[39m\u001b[33m\"\u001b[39m],\n\u001b[32m     25\u001b[39m         known_skills=\u001b[33m\"\u001b[39m\u001b[33m, \u001b[39m\u001b[33m\"\u001b[39m.join(user_profile[\u001b[33m\"\u001b[39m\u001b[33mknown_skills\u001b[39m\u001b[33m\"\u001b[39m]),\n\u001b[32m   (...)\u001b[39m\u001b[32m     31\u001b[39m         course_block=course_block\n\u001b[32m     32\u001b[39m     )\n\u001b[32m     34\u001b[39m     \u001b[38;5;66;03m# Use a LLaMA-based model hosted via Groq\u001b[39;00m\n",
      "\u001b[36mFile \u001b[39m\u001b[32m~/environment/coachable-course-agent/coachable_course_agent/recommender_agent.py:19\u001b[39m, in \u001b[36m<listcomp>\u001b[39m\u001b[34m(.0)\u001b[39m\n\u001b[32m     14\u001b[39m \u001b[38;5;28;01mdef\u001b[39;00m\u001b[38;5;250m \u001b[39m\u001b[34mget_recommendations\u001b[39m(user_profile, courses, esco_skills, top_n=\u001b[32m3\u001b[39m):\n\u001b[32m     15\u001b[39m     \u001b[38;5;66;03m# Sample 5-7 courses to feed into the LLM (in a real version, use vector search)\u001b[39;00m\n\u001b[32m     16\u001b[39m     sampled_courses = random.sample(courses, k=\u001b[38;5;28mmin\u001b[39m(\u001b[32m7\u001b[39m, \u001b[38;5;28mlen\u001b[39m(courses)))\n\u001b[32m     18\u001b[39m     course_block = \u001b[33m\"\u001b[39m\u001b[38;5;130;01m\\n\u001b[39;00m\u001b[33m\"\u001b[39m.join([\n\u001b[32m---> \u001b[39m\u001b[32m19\u001b[39m         \u001b[33mf\u001b[39m\u001b[33m\"\u001b[39m\u001b[33m- \u001b[39m\u001b[38;5;132;01m{\u001b[39;00mc[\u001b[33m'\u001b[39m\u001b[33mtitle\u001b[39m\u001b[33m'\u001b[39m]\u001b[38;5;132;01m}\u001b[39;00m\u001b[33m (\u001b[39m\u001b[38;5;132;01m{\u001b[39;00mc[\u001b[33m'\u001b[39m\u001b[33mprovider\u001b[39m\u001b[33m'\u001b[39m]\u001b[38;5;132;01m}\u001b[39;00m\u001b[33m) | \u001b[39m\u001b[38;5;132;01m{\u001b[39;00m\u001b[43mc\u001b[49m\u001b[43m[\u001b[49m\u001b[33;43m'\u001b[39;49m\u001b[33;43mduration_hours\u001b[39;49m\u001b[33;43m'\u001b[39;49m\u001b[43m]\u001b[49m\u001b[38;5;132;01m}\u001b[39;00m\u001b[33mh | Skills: \u001b[39m\u001b[38;5;132;01m{\u001b[39;00m\u001b[33m'\u001b[39m\u001b[33m, \u001b[39m\u001b[33m'\u001b[39m.join([s[\u001b[33m'\u001b[39m\u001b[33mname\u001b[39m\u001b[33m'\u001b[39m]\u001b[38;5;250m \u001b[39m\u001b[38;5;28;01mfor\u001b[39;00m\u001b[38;5;250m \u001b[39ms\u001b[38;5;250m \u001b[39m\u001b[38;5;129;01min\u001b[39;00m\u001b[38;5;250m \u001b[39mc[\u001b[33m'\u001b[39m\u001b[33mskills\u001b[39m\u001b[33m'\u001b[39m]])\u001b[38;5;132;01m}\u001b[39;00m\u001b[33m\"\u001b[39m\n\u001b[32m     20\u001b[39m         \u001b[38;5;28;01mfor\u001b[39;00m c \u001b[38;5;129;01min\u001b[39;00m sampled_courses\n\u001b[32m     21\u001b[39m     ])\n\u001b[32m     23\u001b[39m     prompt_input = base_prompt.format(\n\u001b[32m     24\u001b[39m         goal=user_profile[\u001b[33m\"\u001b[39m\u001b[33mgoal\u001b[39m\u001b[33m\"\u001b[39m],\n\u001b[32m     25\u001b[39m         known_skills=\u001b[33m\"\u001b[39m\u001b[33m, \u001b[39m\u001b[33m\"\u001b[39m.join(user_profile[\u001b[33m\"\u001b[39m\u001b[33mknown_skills\u001b[39m\u001b[33m\"\u001b[39m]),\n\u001b[32m   (...)\u001b[39m\u001b[32m     31\u001b[39m         course_block=course_block\n\u001b[32m     32\u001b[39m     )\n\u001b[32m     34\u001b[39m     \u001b[38;5;66;03m# Use a LLaMA-based model hosted via Groq\u001b[39;00m\n",
      "\u001b[31mKeyError\u001b[39m: 'duration_hours'"
     ]
    }
   ],
   "source": [
    "# 5. Get LLM-based recommendations\n",
    "from coachable_course_agent.recommender_agent import get_recommendations\n",
    "\n",
    "recommended_courses = get_recommendations(user_profile, similar_courses, esco_skills)\n",
    "for course in recommended_courses:\n",
    "    print(f\"Suggested: {course['title']} ({course['provider']})\")\n",
    "    print(\"Why:\", course[\"justification\"])\n",
    "    print()"
   ]
  },
  {
   "cell_type": "code",
   "execution_count": null,
   "id": "8cfb631a",
   "metadata": {},
   "outputs": [],
   "source": [
    "# 6. Simulate user feedback\n",
    "# Replace course_id with the ID from a suggested course\n",
    "course_id = recommended_courses[0][\"id\"]\n",
    "process_feedback(user_id, course_id, feedback_type=\"adjust\", reason=\"Too long / prefer hands-on\")"
   ]
  },
  {
   "cell_type": "code",
   "execution_count": null,
   "id": "fb0d5c9d",
   "metadata": {},
   "outputs": [],
   "source": [
    "# 7. Save updated user profile\n",
    "update_user_profile(user_id, user_profile)"
   ]
  }
 ],
 "metadata": {
  "kernelspec": {
   "display_name": "coachable-course-agent-FLBbk3Ai",
   "language": "python",
   "name": "python3"
  },
  "language_info": {
   "codemirror_mode": {
    "name": "ipython",
    "version": 3
   },
   "file_extension": ".py",
   "mimetype": "text/x-python",
   "name": "python",
   "nbconvert_exporter": "python",
   "pygments_lexer": "ipython3",
   "version": "3.11.9"
  }
 },
 "nbformat": 4,
 "nbformat_minor": 5
}
