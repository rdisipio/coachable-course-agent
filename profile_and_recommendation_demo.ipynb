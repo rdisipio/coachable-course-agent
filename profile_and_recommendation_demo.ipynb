{
 "cells": [
  {
   "cell_type": "markdown",
   "id": "db5c5b40",
   "metadata": {},
   "source": [
    "## Ingest Data"
   ]
  },
  {
   "cell_type": "markdown",
   "id": "a9c0cc1b",
   "metadata": {},
   "source": [
    "We start by ingesting the ESCO skills data. The preferred labels and descriptions are embedded using a `all-MiniLM-L6-v2` sentence embedding model, and stored in a `chroma` local database."
   ]
  },
  {
   "cell_type": "code",
   "execution_count": 1,
   "id": "11289d5d",
   "metadata": {},
   "outputs": [
    {
     "name": "stdout",
     "output_type": "stream",
     "text": [
      "/home/ec2-user/environment/coachable-course-agent/./scripts/load_esco.py:10: LangChainDeprecationWarning: Importing Chroma from langchain.vectorstores is deprecated. Please replace deprecated imports:\n",
      "\n",
      ">> from langchain.vectorstores import Chroma\n",
      "\n",
      "with new imports of:\n",
      "\n",
      ">> from langchain_community.vectorstores import Chroma\n",
      "You can use the langchain cli to **automatically** upgrade many imports. Please see documentation here <https://python.langchain.com/docs/versions/v0_2/>\n",
      "  from langchain.vectorstores import Chroma\n",
      "/home/ec2-user/environment/coachable-course-agent/./scripts/load_esco.py:11: LangChainDeprecationWarning: Importing HuggingFaceEmbeddings from langchain.embeddings is deprecated. Please replace deprecated imports:\n",
      "\n",
      ">> from langchain.embeddings import HuggingFaceEmbeddings\n",
      "\n",
      "with new imports of:\n",
      "\n",
      ">> from langchain_community.embeddings import HuggingFaceEmbeddings\n",
      "You can use the langchain cli to **automatically** upgrade many imports. Please see documentation here <https://python.langchain.com/docs/versions/v0_2/>\n",
      "  from langchain.embeddings import HuggingFaceEmbeddings\n",
      "/home/ec2-user/environment/coachable-course-agent/./scripts/load_esco.py:17: LangChainDeprecationWarning: The class `HuggingFaceEmbeddings` was deprecated in LangChain 0.2.2 and will be removed in 1.0. An updated version of the class exists in the :class:`~langchain-huggingface package and should be used instead. To use it run `pip install -U :class:`~langchain-huggingface` and import as `from :class:`~langchain_huggingface import HuggingFaceEmbeddings``.\n",
      "  embedding_model = HuggingFaceEmbeddings(model_name=\"all-MiniLM-L6-v2\", show_progress=True)\n",
      "Batches: 100%|████████████████████████████████| 171/171 [00:50<00:00,  3.41it/s]\n",
      "Batches: 100%|████████████████████████████████| 171/171 [00:52<00:00,  3.28it/s]\n",
      "Batches: 100%|██████████████████████████████████| 95/95 [00:29<00:00,  3.27it/s]\n",
      "/home/ec2-user/environment/coachable-course-agent/./scripts/load_esco.py:39: LangChainDeprecationWarning: Since Chroma 0.4.x the manual persistence method is no longer supported as docs are automatically persisted.\n",
      "  vectorstore.persist()\n",
      "ESCO skill vectors saved to data/esco_chroma\n"
     ]
    }
   ],
   "source": [
    "!./scripts/load_esco.py"
   ]
  },
  {
   "cell_type": "markdown",
   "id": "c788ed12",
   "metadata": {},
   "source": [
    "The next step is to scrape course data and match the ESCO skills. This is not done yet (open to collaboration!) so I just asked an LLM to generate a repository of courses that the reader can find under `data/course_catalog_esco.json`. "
   ]
  },
  {
   "cell_type": "markdown",
   "id": "cc78f3e1",
   "metadata": {},
   "source": [
    "Once this is done, the course information can be embedded and stored in another `chroma` database. "
   ]
  },
  {
   "cell_type": "code",
   "execution_count": 6,
   "id": "e92b3671",
   "metadata": {},
   "outputs": [
    {
     "name": "stdout",
     "output_type": "stream",
     "text": [
      "/home/ec2-user/environment/coachable-course-agent/./scripts/load_courses.py:10: LangChainDeprecationWarning: Importing Chroma from langchain.vectorstores is deprecated. Please replace deprecated imports:\n",
      "\n",
      ">> from langchain.vectorstores import Chroma\n",
      "\n",
      "with new imports of:\n",
      "\n",
      ">> from langchain_community.vectorstores import Chroma\n",
      "You can use the langchain cli to **automatically** upgrade many imports. Please see documentation here <https://python.langchain.com/docs/versions/v0_2/>\n",
      "  from langchain.vectorstores import Chroma\n",
      "/home/ec2-user/environment/coachable-course-agent/./scripts/load_courses.py:11: LangChainDeprecationWarning: Importing HuggingFaceEmbeddings from langchain.embeddings is deprecated. Please replace deprecated imports:\n",
      "\n",
      ">> from langchain.embeddings import HuggingFaceEmbeddings\n",
      "\n",
      "with new imports of:\n",
      "\n",
      ">> from langchain_community.embeddings import HuggingFaceEmbeddings\n",
      "You can use the langchain cli to **automatically** upgrade many imports. Please see documentation here <https://python.langchain.com/docs/versions/v0_2/>\n",
      "  from langchain.embeddings import HuggingFaceEmbeddings\n",
      "/home/ec2-user/environment/coachable-course-agent/./scripts/load_courses.py:19: LangChainDeprecationWarning: The class `HuggingFaceEmbeddings` was deprecated in LangChain 0.2.2 and will be removed in 1.0. An updated version of the class exists in the :class:`~langchain-huggingface package and should be used instead. To use it run `pip install -U :class:`~langchain-huggingface` and import as `from :class:`~langchain_huggingface import HuggingFaceEmbeddings``.\n",
      "  embedding_model = HuggingFaceEmbeddings(model_name=\"all-MiniLM-L6-v2\", show_progress=True)\n",
      "Processing courses: 100%|████████████████████| 30/30 [00:00<00:00, 94608.36it/s]\n",
      "Batches: 100%|████████████████████████████████████| 1/1 [00:00<00:00,  7.09it/s]\n",
      "/home/ec2-user/environment/coachable-course-agent/./scripts/load_courses.py:46: LangChainDeprecationWarning: Since Chroma 0.4.x the manual persistence method is no longer supported as docs are automatically persisted.\n",
      "  vectorstore.persist()\n",
      "✅ Stored 30 courses to ChromaDB at 'data/courses_chroma'\n"
     ]
    }
   ],
   "source": [
    "!./scripts/load_courses.py"
   ]
  },
  {
   "cell_type": "markdown",
   "id": "b87171ed",
   "metadata": {},
   "source": [
    "## Build your profile"
   ]
  },
  {
   "cell_type": "markdown",
   "id": "de3b4cce",
   "metadata": {},
   "source": [
    "Next up, we're ready to build your profile! There is a script for doing that from the CLI, but in this case we're going to do it programmatically."
   ]
  },
  {
   "cell_type": "code",
   "execution_count": 9,
   "id": "eb6388d1",
   "metadata": {},
   "outputs": [
    {
     "name": "stderr",
     "output_type": "stream",
     "text": [
      "/tmp/ipykernel_380184/4059579850.py:5: LangChainDeprecationWarning: The class `HuggingFaceEmbeddings` was deprecated in LangChain 0.2.2 and will be removed in 1.0. An updated version of the class exists in the :class:`~langchain-huggingface package and should be used instead. To use it run `pip install -U :class:`~langchain-huggingface` and import as `from :class:`~langchain_huggingface import HuggingFaceEmbeddings``.\n",
      "  embedding_model = HuggingFaceEmbeddings(model_name=\"all-MiniLM-L6-v2\")\n"
     ]
    },
    {
     "name": "stderr",
     "output_type": "stream",
     "text": [
      "/tmp/ipykernel_380184/4059579850.py:6: LangChainDeprecationWarning: The class `Chroma` was deprecated in LangChain 0.2.9 and will be removed in 1.0. An updated version of the class exists in the :class:`~langchain-chroma package and should be used instead. To use it run `pip install -U :class:`~langchain-chroma` and import as `from :class:`~langchain_chroma import Chroma``.\n",
      "  vectorstore = Chroma(\n"
     ]
    }
   ],
   "source": [
    "from coachable_course_agent.agent_runner import create_profile_building_agent\n",
    "from langchain.vectorstores import Chroma\n",
    "from langchain.embeddings import HuggingFaceEmbeddings\n",
    "\n",
    "embedding_model = HuggingFaceEmbeddings(model_name=\"all-MiniLM-L6-v2\")\n",
    "vectorstore = Chroma(\n",
    "        persist_directory=\"data/esco_chroma\",\n",
    "        embedding_function=embedding_model\n",
    ")"
   ]
  },
  {
   "cell_type": "code",
   "execution_count": 25,
   "id": "be067bbc",
   "metadata": {},
   "outputs": [],
   "source": [
    "# Get LinkedIn-style bio\n",
    "\n",
    "user_id = \"test_user\"\n",
    "linkedin_blurb = \"\"\"\n",
    "I am a software engineer with a passion for developing innovative programs that expedite the efficiency and effectiveness of organizational success. I have a strong background in Python, JavaScript, and web development, and I am always eager to learn new technologies and improve my skills. I thrive in collaborative environments and enjoy working on challenging projects that require creative problem-solving.\n",
    "I have experience in full-stack development, including front-end frameworks like React and back-end technologies such as Node.js and Express. I am also familiar with database management systems like PostgreSQL and MongoDB\n",
    "and have worked with cloud platforms such as AWS and Azure.\n",
    "I am looking for opportunities to become a team lead or a senior developer where I can contribute to impactful projects and mentor junior developers. I am particularly interested in roles that involve building scalable web applications and improving user experiences.\n",
    "\"\"\""
   ]
  },
  {
   "cell_type": "code",
   "execution_count": 26,
   "id": "cb1549d6",
   "metadata": {},
   "outputs": [],
   "source": [
    "# Format prompt\n",
    "prompt = f\"My user ID is {user_id}. Here is my bio: {linkedin_blurb}\""
   ]
  },
  {
   "cell_type": "code",
   "execution_count": 27,
   "id": "9fe0a27d",
   "metadata": {},
   "outputs": [],
   "source": [
    "# Create and run the agent\n",
    "agent = create_profile_building_agent(vectorstore, user_id)\n",
    "result = agent.invoke({\"input\": prompt})"
   ]
  },
  {
   "cell_type": "code",
   "execution_count": 28,
   "id": "923342b8",
   "metadata": {},
   "outputs": [
    {
     "name": "stdout",
     "output_type": "stream",
     "text": [
      "Generated profile text: Your user profile has been successfully saved. Your career headline is \"Software Engineer with a passion for innovative program development\", and your skills include Python, JavaScript, Web Development, React, Node.js, Express, PostgreSQL, MongoDB, AWS, and Azure. Your goal is to become a team lead or senior developer and contribute to impactful projects, mentoring junior developers and building scalable web applications. Additionally, it has been inferred that you may be missing the skill \"develop with cloud services\".\n"
     ]
    }
   ],
   "source": [
    "result_text = result[\"output\"]\n",
    "print(f\"Generated profile text: {result_text}\")"
   ]
  },
  {
   "cell_type": "markdown",
   "id": "4074404a",
   "metadata": {},
   "source": [
    "For reference, the user profile is saved under `data/memory/{user_id}.json`."
   ]
  },
  {
   "cell_type": "code",
   "execution_count": 41,
   "id": "6631fbcb",
   "metadata": {},
   "outputs": [
    {
     "name": "stdout",
     "output_type": "stream",
     "text": [
      "{\n",
      "    \"feedback_log\": [],\n",
      "    \"goal\": \"Become a team lead or senior developer and contribute to impactful projects, mentoring junior developers and building scalable web applications\",\n",
      "    \"known_skills\": [\n",
      "        {\n",
      "            \"conceptUri\": \"http://data.europa.eu/esco/skill/ccd0a1d9-afda-43d9-b901-96344886e14d\",\n",
      "            \"description\": \"N/A\",\n",
      "            \"preferredLabel\": \"Python (computer programming)\"\n",
      "        },\n",
      "        {\n",
      "            \"conceptUri\": \"http://data.europa.eu/esco/skill/9b9de2a4-d8af-4a7b-933a-a8334ae60067\",\n",
      "            \"description\": \"N/A\",\n",
      "            \"preferredLabel\": \"JavaScript Framework\"\n",
      "        },\n",
      "        {\n",
      "            \"conceptUri\": \"http://data.europa.eu/esco/skill/11430d93-c835-48ed-8e70-285fa69c9ae6\",\n",
      "            \"description\": \"N/A\",\n",
      "            \"preferredLabel\": \"design cloud architecture\"\n",
      "        }\n",
      "    ],\n",
      "    \"missing_skills\": [\n",
      "        {\n",
      "            \"conceptUri\": \"http://data.europa.eu/esco/skill/6b643893-0a1f-4f6c-83a1-e7eef75849b9\",\n",
      "            \"description\": \"http://data.europa.eu/esco/skill/6b643893-0a1f-4f6c-83a1-e7eef75849b9: Write code that interacts with cloud services by using APIs, SDKs, and cloud CLI. Write code for serverless applications, translate functional requirements into application design, implement application design into application code. \",\n",
      "            \"preferredLabel\": \"develop with cloud services\"\n",
      "        }\n",
      "    ],\n",
      "    \"preferences\": {\n",
      "        \"avoid_styles\": [],\n",
      "        \"format\": [],\n",
      "        \"style\": []\n",
      "    },\n",
      "    \"user_id\": \"test_user\"\n",
      "}\n"
     ]
    }
   ],
   "source": [
    "import json\n",
    "from IPython.display import display, JSON\n",
    "\n",
    "with open(f\"data/memory/{user_id}.json\", \"r\") as f:\n",
    "    data = json.load(f)\n",
    "    print(json.dumps(data, indent=4, separators=(',', ': '), sort_keys=True))\n"
   ]
  },
  {
   "cell_type": "markdown",
   "id": "09b48a75",
   "metadata": {},
   "source": []
  }
 ],
 "metadata": {
  "kernelspec": {
   "display_name": "coachable-course-agent-FLBbk3Ai",
   "language": "python",
   "name": "python3"
  },
  "language_info": {
   "codemirror_mode": {
    "name": "ipython",
    "version": 3
   },
   "file_extension": ".py",
   "mimetype": "text/x-python",
   "name": "python",
   "nbconvert_exporter": "python",
   "pygments_lexer": "ipython3",
   "version": "3.11.9"
  }
 },
 "nbformat": 4,
 "nbformat_minor": 5
}
