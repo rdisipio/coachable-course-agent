{
 "cells": [
  {
   "cell_type": "markdown",
   "id": "db5c5b40",
   "metadata": {},
   "source": [
    "## Ingest Data"
   ]
  },
  {
   "cell_type": "markdown",
   "id": "a9c0cc1b",
   "metadata": {},
   "source": [
    "We start by ingesting the ESCO skills data. The preferred labels and descriptions are embedded using a `all-MiniLM-L6-v2` sentence embedding model, and stored in a `chroma` local database."
   ]
  },
  {
   "cell_type": "code",
   "execution_count": 1,
   "id": "11289d5d",
   "metadata": {},
   "outputs": [
    {
     "name": "stdout",
     "output_type": "stream",
     "text": [
      "/home/ec2-user/environment/coachable-course-agent/./scripts/load_esco.py:10: LangChainDeprecationWarning: Importing Chroma from langchain.vectorstores is deprecated. Please replace deprecated imports:\n",
      "\n",
      ">> from langchain.vectorstores import Chroma\n",
      "\n",
      "with new imports of:\n",
      "\n",
      ">> from langchain_community.vectorstores import Chroma\n",
      "You can use the langchain cli to **automatically** upgrade many imports. Please see documentation here <https://python.langchain.com/docs/versions/v0_2/>\n",
      "  from langchain.vectorstores import Chroma\n",
      "/home/ec2-user/environment/coachable-course-agent/./scripts/load_esco.py:11: LangChainDeprecationWarning: Importing HuggingFaceEmbeddings from langchain.embeddings is deprecated. Please replace deprecated imports:\n",
      "\n",
      ">> from langchain.embeddings import HuggingFaceEmbeddings\n",
      "\n",
      "with new imports of:\n",
      "\n",
      ">> from langchain_community.embeddings import HuggingFaceEmbeddings\n",
      "You can use the langchain cli to **automatically** upgrade many imports. Please see documentation here <https://python.langchain.com/docs/versions/v0_2/>\n",
      "  from langchain.embeddings import HuggingFaceEmbeddings\n",
      "/home/ec2-user/environment/coachable-course-agent/./scripts/load_esco.py:17: LangChainDeprecationWarning: The class `HuggingFaceEmbeddings` was deprecated in LangChain 0.2.2 and will be removed in 1.0. An updated version of the class exists in the :class:`~langchain-huggingface package and should be used instead. To use it run `pip install -U :class:`~langchain-huggingface` and import as `from :class:`~langchain_huggingface import HuggingFaceEmbeddings``.\n",
      "  embedding_model = HuggingFaceEmbeddings(model_name=\"all-MiniLM-L6-v2\", show_progress=True)\n",
      "Batches: 100%|████████████████████████████████| 171/171 [00:50<00:00,  3.41it/s]\n",
      "Batches: 100%|████████████████████████████████| 171/171 [00:52<00:00,  3.28it/s]\n",
      "Batches: 100%|██████████████████████████████████| 95/95 [00:29<00:00,  3.27it/s]\n",
      "/home/ec2-user/environment/coachable-course-agent/./scripts/load_esco.py:39: LangChainDeprecationWarning: Since Chroma 0.4.x the manual persistence method is no longer supported as docs are automatically persisted.\n",
      "  vectorstore.persist()\n",
      "ESCO skill vectors saved to data/esco_chroma\n"
     ]
    }
   ],
   "source": [
    "!./scripts/load_esco.py"
   ]
  },
  {
   "cell_type": "markdown",
   "id": "c788ed12",
   "metadata": {},
   "source": [
    "The next step is to scrape course data and match the ESCO skills. This is not done yet (open to collaboration!) so I just asked an LLM to generate a repository of courses that the reader can find under `data/course_catalog_esco.json`. "
   ]
  },
  {
   "cell_type": "markdown",
   "id": "cc78f3e1",
   "metadata": {},
   "source": [
    "Once this is done, the course information can be embedded and stored in another `chroma` database. "
   ]
  },
  {
   "cell_type": "code",
   "execution_count": 6,
   "id": "e92b3671",
   "metadata": {},
   "outputs": [
    {
     "name": "stdout",
     "output_type": "stream",
     "text": [
      "/home/ec2-user/environment/coachable-course-agent/./scripts/load_courses.py:10: LangChainDeprecationWarning: Importing Chroma from langchain.vectorstores is deprecated. Please replace deprecated imports:\n",
      "\n",
      ">> from langchain.vectorstores import Chroma\n",
      "\n",
      "with new imports of:\n",
      "\n",
      ">> from langchain_community.vectorstores import Chroma\n",
      "You can use the langchain cli to **automatically** upgrade many imports. Please see documentation here <https://python.langchain.com/docs/versions/v0_2/>\n",
      "  from langchain.vectorstores import Chroma\n",
      "/home/ec2-user/environment/coachable-course-agent/./scripts/load_courses.py:11: LangChainDeprecationWarning: Importing HuggingFaceEmbeddings from langchain.embeddings is deprecated. Please replace deprecated imports:\n",
      "\n",
      ">> from langchain.embeddings import HuggingFaceEmbeddings\n",
      "\n",
      "with new imports of:\n",
      "\n",
      ">> from langchain_community.embeddings import HuggingFaceEmbeddings\n",
      "You can use the langchain cli to **automatically** upgrade many imports. Please see documentation here <https://python.langchain.com/docs/versions/v0_2/>\n",
      "  from langchain.embeddings import HuggingFaceEmbeddings\n",
      "/home/ec2-user/environment/coachable-course-agent/./scripts/load_courses.py:19: LangChainDeprecationWarning: The class `HuggingFaceEmbeddings` was deprecated in LangChain 0.2.2 and will be removed in 1.0. An updated version of the class exists in the :class:`~langchain-huggingface package and should be used instead. To use it run `pip install -U :class:`~langchain-huggingface` and import as `from :class:`~langchain_huggingface import HuggingFaceEmbeddings``.\n",
      "  embedding_model = HuggingFaceEmbeddings(model_name=\"all-MiniLM-L6-v2\", show_progress=True)\n",
      "Processing courses: 100%|████████████████████| 30/30 [00:00<00:00, 94608.36it/s]\n",
      "Batches: 100%|████████████████████████████████████| 1/1 [00:00<00:00,  7.09it/s]\n",
      "/home/ec2-user/environment/coachable-course-agent/./scripts/load_courses.py:46: LangChainDeprecationWarning: Since Chroma 0.4.x the manual persistence method is no longer supported as docs are automatically persisted.\n",
      "  vectorstore.persist()\n",
      "✅ Stored 30 courses to ChromaDB at 'data/courses_chroma'\n"
     ]
    }
   ],
   "source": [
    "!./scripts/load_courses.py"
   ]
  },
  {
   "cell_type": "markdown",
   "id": "b87171ed",
   "metadata": {},
   "source": [
    "## Build your profile"
   ]
  },
  {
   "cell_type": "markdown",
   "id": "de3b4cce",
   "metadata": {},
   "source": [
    "Next up, we're ready to build your profile! There is a script for doing that from the CLI, but in this case we're going to do it programmatically."
   ]
  },
  {
   "cell_type": "code",
   "execution_count": 9,
   "id": "eb6388d1",
   "metadata": {},
   "outputs": [
    {
     "name": "stderr",
     "output_type": "stream",
     "text": [
      "/tmp/ipykernel_380184/4059579850.py:5: LangChainDeprecationWarning: The class `HuggingFaceEmbeddings` was deprecated in LangChain 0.2.2 and will be removed in 1.0. An updated version of the class exists in the :class:`~langchain-huggingface package and should be used instead. To use it run `pip install -U :class:`~langchain-huggingface` and import as `from :class:`~langchain_huggingface import HuggingFaceEmbeddings``.\n",
      "  embedding_model = HuggingFaceEmbeddings(model_name=\"all-MiniLM-L6-v2\")\n"
     ]
    },
    {
     "name": "stderr",
     "output_type": "stream",
     "text": [
      "/tmp/ipykernel_380184/4059579850.py:6: LangChainDeprecationWarning: The class `Chroma` was deprecated in LangChain 0.2.9 and will be removed in 1.0. An updated version of the class exists in the :class:`~langchain-chroma package and should be used instead. To use it run `pip install -U :class:`~langchain-chroma` and import as `from :class:`~langchain_chroma import Chroma``.\n",
      "  vectorstore = Chroma(\n"
     ]
    }
   ],
   "source": [
    "from coachable_course_agent.agent_runner import create_profile_building_agent\n",
    "from langchain.vectorstores import Chroma\n",
    "from langchain.embeddings import HuggingFaceEmbeddings\n",
    "\n",
    "embedding_model = HuggingFaceEmbeddings(model_name=\"all-MiniLM-L6-v2\")\n",
    "vectorstore = Chroma(\n",
    "        persist_directory=\"data/esco_chroma\",\n",
    "        embedding_function=embedding_model\n",
    ")"
   ]
  },
  {
   "cell_type": "code",
   "execution_count": 25,
   "id": "be067bbc",
   "metadata": {},
   "outputs": [],
   "source": [
    "# Get LinkedIn-style bio\n",
    "\n",
    "user_id = \"test_user\"\n",
    "linkedin_blurb = \"\"\"\n",
    "I am a software engineer with a passion for developing innovative programs that expedite the efficiency and effectiveness of organizational success. I have a strong background in Python, JavaScript, and web development, and I am always eager to learn new technologies and improve my skills. I thrive in collaborative environments and enjoy working on challenging projects that require creative problem-solving.\n",
    "I have experience in full-stack development, including front-end frameworks like React and back-end technologies such as Node.js and Express. I am also familiar with database management systems like PostgreSQL and MongoDB\n",
    "and have worked with cloud platforms such as AWS and Azure.\n",
    "I am looking for opportunities to become a team lead or a senior developer where I can contribute to impactful projects and mentor junior developers. I am particularly interested in roles that involve building scalable web applications and improving user experiences.\n",
    "\"\"\""
   ]
  },
  {
   "cell_type": "code",
   "execution_count": 26,
   "id": "cb1549d6",
   "metadata": {},
   "outputs": [],
   "source": [
    "# Format prompt\n",
    "prompt = f\"My user ID is {user_id}. Here is my bio: {linkedin_blurb}\""
   ]
  },
  {
   "cell_type": "code",
   "execution_count": 27,
   "id": "9fe0a27d",
   "metadata": {},
   "outputs": [],
   "source": [
    "# Create and run the agent\n",
    "agent = create_profile_building_agent(vectorstore, user_id)\n",
    "result = agent.invoke({\"input\": prompt})"
   ]
  },
  {
   "cell_type": "code",
   "execution_count": 28,
   "id": "923342b8",
   "metadata": {},
   "outputs": [
    {
     "name": "stdout",
     "output_type": "stream",
     "text": [
      "Generated profile text: Your user profile has been successfully saved. Your career headline is \"Software Engineer with a passion for innovative program development\", and your skills include Python, JavaScript, Web Development, React, Node.js, Express, PostgreSQL, MongoDB, AWS, and Azure. Your goal is to become a team lead or senior developer and contribute to impactful projects, mentoring junior developers and building scalable web applications. Additionally, it has been inferred that you may be missing the skill \"develop with cloud services\".\n"
     ]
    }
   ],
   "source": [
    "result_text = result[\"output\"]\n",
    "print(f\"Generated profile text: {result_text}\")"
   ]
  },
  {
   "cell_type": "markdown",
   "id": "4074404a",
   "metadata": {},
   "source": [
    "For reference, the user profile is saved under `data/memory/{user_id}.json`."
   ]
  },
  {
   "cell_type": "code",
   "execution_count": 41,
   "id": "6631fbcb",
   "metadata": {},
   "outputs": [
    {
     "name": "stdout",
     "output_type": "stream",
     "text": [
      "{\n",
      "    \"feedback_log\": [],\n",
      "    \"goal\": \"Become a team lead or senior developer and contribute to impactful projects, mentoring junior developers and building scalable web applications\",\n",
      "    \"known_skills\": [\n",
      "        {\n",
      "            \"conceptUri\": \"http://data.europa.eu/esco/skill/ccd0a1d9-afda-43d9-b901-96344886e14d\",\n",
      "            \"description\": \"N/A\",\n",
      "            \"preferredLabel\": \"Python (computer programming)\"\n",
      "        },\n",
      "        {\n",
      "            \"conceptUri\": \"http://data.europa.eu/esco/skill/9b9de2a4-d8af-4a7b-933a-a8334ae60067\",\n",
      "            \"description\": \"N/A\",\n",
      "            \"preferredLabel\": \"JavaScript Framework\"\n",
      "        },\n",
      "        {\n",
      "            \"conceptUri\": \"http://data.europa.eu/esco/skill/11430d93-c835-48ed-8e70-285fa69c9ae6\",\n",
      "            \"description\": \"N/A\",\n",
      "            \"preferredLabel\": \"design cloud architecture\"\n",
      "        }\n",
      "    ],\n",
      "    \"missing_skills\": [\n",
      "        {\n",
      "            \"conceptUri\": \"http://data.europa.eu/esco/skill/6b643893-0a1f-4f6c-83a1-e7eef75849b9\",\n",
      "            \"description\": \"http://data.europa.eu/esco/skill/6b643893-0a1f-4f6c-83a1-e7eef75849b9: Write code that interacts with cloud services by using APIs, SDKs, and cloud CLI. Write code for serverless applications, translate functional requirements into application design, implement application design into application code. \",\n",
      "            \"preferredLabel\": \"develop with cloud services\"\n",
      "        }\n",
      "    ],\n",
      "    \"preferences\": {\n",
      "        \"avoid_styles\": [],\n",
      "        \"format\": [],\n",
      "        \"style\": []\n",
      "    },\n",
      "    \"user_id\": \"test_user\"\n",
      "}\n"
     ]
    }
   ],
   "source": [
    "import json\n",
    "from IPython.display import display, JSON\n",
    "\n",
    "with open(f\"data/memory/{user_id}.json\", \"r\") as f:\n",
    "    data = json.load(f)\n",
    "    print(json.dumps(data, indent=4, separators=(',', ': '), sort_keys=True))\n"
   ]
  },
  {
   "cell_type": "markdown",
   "id": "09b48a75",
   "metadata": {},
   "source": [
    "## Get initial recommendations, give feedback"
   ]
  },
  {
   "cell_type": "code",
   "execution_count": 42,
   "id": "1fde9656",
   "metadata": {},
   "outputs": [],
   "source": [
    "from coachable_course_agent.memory_store import load_user_profile\n",
    "from coachable_course_agent.feedback_processor import process_feedback\n",
    "from coachable_course_agent.vector_store import query_similar_courses\n",
    "from coachable_course_agent.justifier_chain import justify_recommendations"
   ]
  },
  {
   "cell_type": "code",
   "execution_count": 43,
   "id": "a8fda683",
   "metadata": {},
   "outputs": [],
   "source": [
    "from langchain.vectorstores import Chroma\n",
    "from langchain.embeddings import HuggingFaceEmbeddings\n",
    "\n",
    "embedding_model = HuggingFaceEmbeddings(model_name=\"all-MiniLM-L6-v2\")\n",
    "courses_collection = Chroma(\n",
    "        persist_directory=\"data/courses_chroma\",\n",
    "        embedding_function=embedding_model\n",
    "    )"
   ]
  },
  {
   "cell_type": "code",
   "execution_count": 44,
   "id": "9ed4c719",
   "metadata": {},
   "outputs": [],
   "source": [
    "user_profile = load_user_profile(user_id)\n"
   ]
  },
  {
   "cell_type": "code",
   "execution_count": 45,
   "id": "53bb3843",
   "metadata": {},
   "outputs": [],
   "source": [
    "# Retrieve top N courses from vector store based on user profile\n",
    "retrieved_courses = query_similar_courses(courses_collection, user_profile, top_n=10)"
   ]
  },
  {
   "cell_type": "code",
   "execution_count": 46,
   "id": "eb8de192",
   "metadata": {},
   "outputs": [
    {
     "name": "stderr",
     "output_type": "stream",
     "text": [
      "/home/ec2-user/environment/coachable-course-agent/coachable_course_agent/justifier_chain.py:32: LangChainDeprecationWarning: The method `Chain.run` was deprecated in langchain 0.1.0 and will be removed in 1.0. Use :meth:`~invoke` instead.\n",
      "  response = chain.run({\n"
     ]
    }
   ],
   "source": [
    "# Use the LLM to justify and refine top 3 recommendations\n",
    "recommendations = justify_recommendations(user_profile, retrieved_courses)"
   ]
  },
  {
   "cell_type": "code",
   "execution_count": null,
   "id": "3f71d8ed",
   "metadata": {},
   "outputs": [
    {
     "name": "stdout",
     "output_type": "stream",
     "text": [
      "\n",
      "Suggested: Leadership Fundamentals\n",
      "Why:  Develops leadership skills, which is essential for a team lead or senior developer role, and aligns with the user's goal of mentoring junior developers.\n",
      "\n",
      "Suggested: Organizational Development Fundamentals\n",
      "Why:  Complements leadership skills and provides knowledge on organizational development, which is crucial for a senior developer role, and aligns with the user's goal of contributing to impactful projects.\n",
      "\n",
      "Suggested: Diversity And Inclusion Fundamentals\n",
      "Why:  Develops essential soft skills for a team lead or senior developer, and aligns with the user's goal of mentoring junior developers, with a beginner-level course that provides a solid foundation.\n"
     ]
    }
   ],
   "source": [
    "# Collect feedback on each course\n",
    "\n",
    "def collect_feedback():\n",
    "    feedback = []\n",
    "    for rec in recommendations:\n",
    "        print(f\"\\nSuggested: {rec['title']}\")\n",
    "        print(\"Why: \", rec[\"justification\"])\n",
    "        feedback = input(\"Feedback? (approve / adjust / reject / suggest): \")\n",
    "        reason = input(\"Reason (optional): \")\n",
    "        process_feedback(user_id, rec[\"course_id\"], feedback, reason)\n",
    "\n",
    "collect_feedback()\n"
   ]
  },
  {
   "cell_type": "markdown",
   "id": "58b3a175",
   "metadata": {},
   "source": [
    "We can now show the feedback log, which includes the new user preferences:"
   ]
  },
  {
   "cell_type": "code",
   "execution_count": 50,
   "id": "1433085b",
   "metadata": {},
   "outputs": [
    {
     "name": "stdout",
     "output_type": "stream",
     "text": [
      "[\n",
      "    {\n",
      "        \"course_id\": \"Leadership Fundamentals (Coursera)\",\n",
      "        \"feedback_type\": \"approve\",\n",
      "        \"reason\": \"looks good\",\n",
      "        \"timestamp\": \"2025-06-25T15:46:59.315292+00:00\"\n",
      "    },\n",
      "    {\n",
      "        \"course_id\": \"Organizational Development Fundamentals (LinkedIn Learning)\",\n",
      "        \"feedback_type\": \"adjust\",\n",
      "        \"reason\": \"too long\",\n",
      "        \"timestamp\": \"2025-06-25T15:47:11.287731+00:00\"\n",
      "    },\n",
      "    {\n",
      "        \"course_id\": \"Diversity And Inclusion Fundamentals (edX)\",\n",
      "        \"feedback_type\": \"reject\",\n",
      "        \"reason\": \"too vague\",\n",
      "        \"timestamp\": \"2025-06-25T15:47:21.205965+00:00\"\n",
      "    }\n",
      "]\n"
     ]
    }
   ],
   "source": [
    "import json\n",
    "from IPython.display import display, JSON\n",
    "\n",
    "with open(f\"data/memory/{user_id}.json\", \"r\") as f:\n",
    "    data = json.load(f)\n",
    "    feedback_log = data.get(\"feedback_log\", [])\n",
    "    print(json.dumps(feedback_log, indent=4, separators=(',', ': '), sort_keys=True))\n"
   ]
  },
  {
   "cell_type": "markdown",
   "id": "5e080589",
   "metadata": {},
   "source": [
    "Let's get the recommendations again, based on the update user profile."
   ]
  },
  {
   "cell_type": "code",
   "execution_count": 51,
   "id": "b42ae2f1",
   "metadata": {},
   "outputs": [],
   "source": [
    "user_profile = load_user_profile(user_id)\n",
    "retrieved_courses = query_similar_courses(courses_collection, user_profile, top_n=10)\n",
    "recommendations = justify_recommendations(user_profile, retrieved_courses)\n"
   ]
  },
  {
   "cell_type": "code",
   "execution_count": 56,
   "id": "93a7f7df",
   "metadata": {},
   "outputs": [
    {
     "name": "stdout",
     "output_type": "stream",
     "text": [
      "\n",
      "Suggested: Leadership Fundamentals\n",
      "Why:  Approved in previous feedback, aligns with goal of becoming a team lead, and develops leadership skills.\n",
      "\n",
      "Suggested: Coaching Fundamentals\n",
      "Why:  Develops leadership skills, aligns with goal of mentoring junior developers, and has a preferred text format.\n",
      "\n",
      "Suggested: Talent Acquisition Fundamentals\n",
      "Why:  Develops leadership skills, aligns with goal of becoming a team lead, and has a preferred text format.\n"
     ]
    }
   ],
   "source": [
    "collect_feedback()"
   ]
  },
  {
   "cell_type": "markdown",
   "id": "138deaf7",
   "metadata": {},
   "source": [
    "Let's see the updated log with the new user feedback:"
   ]
  },
  {
   "cell_type": "code",
   "execution_count": 57,
   "id": "1d892ee1",
   "metadata": {},
   "outputs": [
    {
     "name": "stdout",
     "output_type": "stream",
     "text": [
      "[\n",
      "    {\n",
      "        \"course_id\": \"Leadership Fundamentals (Coursera)\",\n",
      "        \"feedback_type\": \"approve\",\n",
      "        \"reason\": \"looks good\",\n",
      "        \"timestamp\": \"2025-06-25T15:46:59.315292+00:00\"\n",
      "    },\n",
      "    {\n",
      "        \"course_id\": \"Organizational Development Fundamentals (LinkedIn Learning)\",\n",
      "        \"feedback_type\": \"adjust\",\n",
      "        \"reason\": \"too long\",\n",
      "        \"timestamp\": \"2025-06-25T15:47:11.287731+00:00\"\n",
      "    },\n",
      "    {\n",
      "        \"course_id\": \"Diversity And Inclusion Fundamentals (edX)\",\n",
      "        \"feedback_type\": \"reject\",\n",
      "        \"reason\": \"too vague\",\n",
      "        \"timestamp\": \"2025-06-25T15:47:21.205965+00:00\"\n",
      "    },\n",
      "    {\n",
      "        \"course_id\": \"Talent Acquisition Fundamentals (Coursera)\",\n",
      "        \"feedback_type\": \"\",\n",
      "        \"reason\": \"\",\n",
      "        \"timestamp\": \"2025-06-25T15:51:44.019251+00:00\"\n",
      "    },\n",
      "    {\n",
      "        \"course_id\": \"Leadership Fundamentals (Coursera)\",\n",
      "        \"feedback_type\": \"approve\",\n",
      "        \"reason\": \"looks good\",\n",
      "        \"timestamp\": \"2025-06-25T15:52:03.860402+00:00\"\n",
      "    },\n",
      "    {\n",
      "        \"course_id\": \"Coaching Fundamentals (Udemy)\",\n",
      "        \"feedback_type\": \"approve\",\n",
      "        \"reason\": \"nice recommendation!\",\n",
      "        \"timestamp\": \"2025-06-25T15:52:15.715640+00:00\"\n",
      "    },\n",
      "    {\n",
      "        \"course_id\": \"Talent Acquisition Fundamentals (Coursera)\",\n",
      "        \"feedback_type\": \"adjust\",\n",
      "        \"reason\": \"I prefer more hands-on courses\",\n",
      "        \"timestamp\": \"2025-06-25T15:52:39.799757+00:00\"\n",
      "    }\n",
      "]\n"
     ]
    }
   ],
   "source": [
    "import json\n",
    "from IPython.display import display, JSON\n",
    "\n",
    "with open(f\"data/memory/{user_id}.json\", \"r\") as f:\n",
    "    data = json.load(f)\n",
    "    feedback_log = data.get(\"feedback_log\", [])\n",
    "    print(json.dumps(feedback_log, indent=4, separators=(',', ': '), sort_keys=True))\n"
   ]
  },
  {
   "cell_type": "code",
   "execution_count": null,
   "id": "ce2bc15d",
   "metadata": {},
   "outputs": [],
   "source": []
  }
 ],
 "metadata": {
  "kernelspec": {
   "display_name": "coachable-course-agent-FLBbk3Ai",
   "language": "python",
   "name": "python3"
  },
  "language_info": {
   "codemirror_mode": {
    "name": "ipython",
    "version": 3
   },
   "file_extension": ".py",
   "mimetype": "text/x-python",
   "name": "python",
   "nbconvert_exporter": "python",
   "pygments_lexer": "ipython3",
   "version": "3.11.9"
  }
 },
 "nbformat": 4,
 "nbformat_minor": 5
}
